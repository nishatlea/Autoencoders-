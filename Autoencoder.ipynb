{
  "nbformat": 4,
  "nbformat_minor": 0,
  "metadata": {
    "colab": {
      "name": "Autoencoder.ipynb",
      "provenance": [],
      "collapsed_sections": [],
      "authorship_tag": "ABX9TyNRSvw/COBVFuuQtG8jOWLK",
      "include_colab_link": true
    },
    "kernelspec": {
      "name": "python3",
      "display_name": "Python 3"
    }
  },
  "cells": [
    {
      "cell_type": "markdown",
      "metadata": {
        "id": "view-in-github",
        "colab_type": "text"
      },
      "source": [
        "<a href=\"https://colab.research.google.com/github/nishatlea/Autoencoders-/blob/master/Autoencoder.ipynb\" target=\"_parent\"><img src=\"https://colab.research.google.com/assets/colab-badge.svg\" alt=\"Open In Colab\"/></a>"
      ]
    },
    {
      "cell_type": "code",
      "metadata": {
        "id": "B1aQExTYKCmH",
        "colab_type": "code",
        "colab": {
          "base_uri": "https://localhost:8080/",
          "height": 34
        },
        "outputId": "fdf68e28-009b-49e5-d724-9c1835a25ec3"
      },
      "source": [
        "from keras.layers import Input, Dense\n",
        "from keras.models import Model\n",
        "\n",
        "# this is the size of our encoded representations\n",
        "encoding_dim = 32  # 32 floats -> compression of factor 24.5, assuming the input is 784 floats\n",
        "\n",
        "# this is our input placeholder\n",
        "input_img = Input(shape=(784,))\n",
        "# \"encoded\" is the encoded representation of the input\n",
        "encoded = Dense(encoding_dim, activation='relu')(input_img)\n",
        "# \"decoded\" is the lossy reconstruction of the input\n",
        "decoded = Dense(784, activation='sigmoid')(encoded)\n",
        "\n",
        "# this model maps an input to its reconstruction\n",
        "autoencoder = Model(input_img, decoded)"
      ],
      "execution_count": 2,
      "outputs": [
        {
          "output_type": "stream",
          "text": [
            "Using TensorFlow backend.\n"
          ],
          "name": "stderr"
        }
      ]
    },
    {
      "cell_type": "code",
      "metadata": {
        "id": "Id6CwtJoJVcV",
        "colab_type": "code",
        "colab": {}
      },
      "source": [
        "encoder = Model(input_img, encoded)"
      ],
      "execution_count": 3,
      "outputs": []
    },
    {
      "cell_type": "code",
      "metadata": {
        "id": "1XwJr6VZJp8p",
        "colab_type": "code",
        "colab": {}
      },
      "source": [
        "encoded_input = Input(shape=(encoding_dim,))\n",
        "# retrieve the last layer of the autoencoder model\n",
        "decoder_layer = autoencoder.layers[-1]\n",
        "# create the decoder model\n",
        "decoder = Model(encoded_input, decoder_layer(encoded_input))"
      ],
      "execution_count": 4,
      "outputs": []
    },
    {
      "cell_type": "code",
      "metadata": {
        "id": "TIB2StrJJxqO",
        "colab_type": "code",
        "colab": {}
      },
      "source": [
        "autoencoder.compile(optimizer='adadelta', loss='binary_crossentropy')"
      ],
      "execution_count": 5,
      "outputs": []
    },
    {
      "cell_type": "code",
      "metadata": {
        "id": "1QXhAbfpJ4VV",
        "colab_type": "code",
        "colab": {
          "base_uri": "https://localhost:8080/",
          "height": 51
        },
        "outputId": "f3f71806-c154-4c0a-daa9-69b450ec12f5"
      },
      "source": [
        "from keras.datasets import mnist\n",
        "import numpy as np\n",
        "(x_train, _), (x_test, _) = mnist.load_data()"
      ],
      "execution_count": 6,
      "outputs": [
        {
          "output_type": "stream",
          "text": [
            "Downloading data from https://s3.amazonaws.com/img-datasets/mnist.npz\n",
            "11493376/11490434 [==============================] - 0s 0us/step\n"
          ],
          "name": "stdout"
        }
      ]
    },
    {
      "cell_type": "code",
      "metadata": {
        "id": "-Dl1-VBFKJn9",
        "colab_type": "code",
        "colab": {
          "base_uri": "https://localhost:8080/",
          "height": 51
        },
        "outputId": "297bd83f-5966-4984-b036-ee65e356a9fb"
      },
      "source": [
        "x_train = x_train.astype('float32') / 255.\n",
        "x_test = x_test.astype('float32') / 255.\n",
        "x_train = x_train.reshape((len(x_train), np.prod(x_train.shape[1:])))\n",
        "x_test = x_test.reshape((len(x_test), np.prod(x_test.shape[1:])))\n",
        "print (x_train.shape)\n",
        "print (x_test.shape)"
      ],
      "execution_count": 8,
      "outputs": [
        {
          "output_type": "stream",
          "text": [
            "(60000, 784)\n",
            "(10000, 784)\n"
          ],
          "name": "stdout"
        }
      ]
    },
    {
      "cell_type": "code",
      "metadata": {
        "id": "unWJtzmwKLqx",
        "colab_type": "code",
        "colab": {
          "base_uri": "https://localhost:8080/",
          "height": 1000
        },
        "outputId": "88451381-1971-467d-a888-f38650a210ed"
      },
      "source": [
        "autoencoder.fit(x_train, x_train,\n",
        "                epochs=50,\n",
        "                batch_size=256,\n",
        "                shuffle=True,\n",
        "                validation_data=(x_test, x_test))"
      ],
      "execution_count": 9,
      "outputs": [
        {
          "output_type": "stream",
          "text": [
            "Train on 60000 samples, validate on 10000 samples\n",
            "Epoch 1/50\n",
            "60000/60000 [==============================] - 3s 44us/step - loss: 0.3600 - val_loss: 0.2722\n",
            "Epoch 2/50\n",
            "60000/60000 [==============================] - 2s 40us/step - loss: 0.2665 - val_loss: 0.2574\n",
            "Epoch 3/50\n",
            "60000/60000 [==============================] - 2s 40us/step - loss: 0.2471 - val_loss: 0.2340\n",
            "Epoch 4/50\n",
            "60000/60000 [==============================] - 2s 39us/step - loss: 0.2254 - val_loss: 0.2152\n",
            "Epoch 5/50\n",
            "60000/60000 [==============================] - 2s 40us/step - loss: 0.2101 - val_loss: 0.2027\n",
            "Epoch 6/50\n",
            "60000/60000 [==============================] - 2s 40us/step - loss: 0.1992 - val_loss: 0.1929\n",
            "Epoch 7/50\n",
            "60000/60000 [==============================] - 2s 40us/step - loss: 0.1900 - val_loss: 0.1844\n",
            "Epoch 8/50\n",
            "60000/60000 [==============================] - 2s 40us/step - loss: 0.1823 - val_loss: 0.1774\n",
            "Epoch 9/50\n",
            "60000/60000 [==============================] - 2s 40us/step - loss: 0.1759 - val_loss: 0.1717\n",
            "Epoch 10/50\n",
            "60000/60000 [==============================] - 2s 40us/step - loss: 0.1707 - val_loss: 0.1670\n",
            "Epoch 11/50\n",
            "60000/60000 [==============================] - 2s 40us/step - loss: 0.1663 - val_loss: 0.1629\n",
            "Epoch 12/50\n",
            "60000/60000 [==============================] - 2s 40us/step - loss: 0.1625 - val_loss: 0.1593\n",
            "Epoch 13/50\n",
            "60000/60000 [==============================] - 2s 40us/step - loss: 0.1591 - val_loss: 0.1561\n",
            "Epoch 14/50\n",
            "60000/60000 [==============================] - 2s 39us/step - loss: 0.1559 - val_loss: 0.1529\n",
            "Epoch 15/50\n",
            "60000/60000 [==============================] - 2s 40us/step - loss: 0.1529 - val_loss: 0.1500\n",
            "Epoch 16/50\n",
            "60000/60000 [==============================] - 2s 40us/step - loss: 0.1500 - val_loss: 0.1473\n",
            "Epoch 17/50\n",
            "60000/60000 [==============================] - 2s 39us/step - loss: 0.1473 - val_loss: 0.1447\n",
            "Epoch 18/50\n",
            "60000/60000 [==============================] - 2s 40us/step - loss: 0.1448 - val_loss: 0.1422\n",
            "Epoch 19/50\n",
            "60000/60000 [==============================] - 2s 40us/step - loss: 0.1424 - val_loss: 0.1399\n",
            "Epoch 20/50\n",
            "60000/60000 [==============================] - 2s 41us/step - loss: 0.1402 - val_loss: 0.1376\n",
            "Epoch 21/50\n",
            "60000/60000 [==============================] - 2s 39us/step - loss: 0.1380 - val_loss: 0.1356\n",
            "Epoch 22/50\n",
            "60000/60000 [==============================] - 2s 40us/step - loss: 0.1360 - val_loss: 0.1336\n",
            "Epoch 23/50\n",
            "60000/60000 [==============================] - 2s 40us/step - loss: 0.1341 - val_loss: 0.1317\n",
            "Epoch 24/50\n",
            "60000/60000 [==============================] - 2s 39us/step - loss: 0.1323 - val_loss: 0.1299\n",
            "Epoch 25/50\n",
            "60000/60000 [==============================] - 2s 41us/step - loss: 0.1306 - val_loss: 0.1283\n",
            "Epoch 26/50\n",
            "60000/60000 [==============================] - 2s 40us/step - loss: 0.1289 - val_loss: 0.1265\n",
            "Epoch 27/50\n",
            "60000/60000 [==============================] - 2s 39us/step - loss: 0.1273 - val_loss: 0.1249\n",
            "Epoch 28/50\n",
            "60000/60000 [==============================] - 2s 39us/step - loss: 0.1258 - val_loss: 0.1234\n",
            "Epoch 29/50\n",
            "60000/60000 [==============================] - 2s 39us/step - loss: 0.1243 - val_loss: 0.1220\n",
            "Epoch 30/50\n",
            "60000/60000 [==============================] - 2s 40us/step - loss: 0.1229 - val_loss: 0.1206\n",
            "Epoch 31/50\n",
            "60000/60000 [==============================] - 2s 40us/step - loss: 0.1216 - val_loss: 0.1193\n",
            "Epoch 32/50\n",
            "60000/60000 [==============================] - 2s 40us/step - loss: 0.1203 - val_loss: 0.1181\n",
            "Epoch 33/50\n",
            "60000/60000 [==============================] - 2s 40us/step - loss: 0.1192 - val_loss: 0.1169\n",
            "Epoch 34/50\n",
            "60000/60000 [==============================] - 2s 39us/step - loss: 0.1180 - val_loss: 0.1158\n",
            "Epoch 35/50\n",
            "60000/60000 [==============================] - 2s 40us/step - loss: 0.1170 - val_loss: 0.1148\n",
            "Epoch 36/50\n",
            "60000/60000 [==============================] - 2s 40us/step - loss: 0.1160 - val_loss: 0.1138\n",
            "Epoch 37/50\n",
            "60000/60000 [==============================] - 2s 40us/step - loss: 0.1151 - val_loss: 0.1129\n",
            "Epoch 38/50\n",
            "60000/60000 [==============================] - 2s 41us/step - loss: 0.1142 - val_loss: 0.1121\n",
            "Epoch 39/50\n",
            "60000/60000 [==============================] - 2s 40us/step - loss: 0.1134 - val_loss: 0.1113\n",
            "Epoch 40/50\n",
            "60000/60000 [==============================] - 2s 41us/step - loss: 0.1127 - val_loss: 0.1106\n",
            "Epoch 41/50\n",
            "60000/60000 [==============================] - 3s 42us/step - loss: 0.1120 - val_loss: 0.1099\n",
            "Epoch 42/50\n",
            "60000/60000 [==============================] - 3s 42us/step - loss: 0.1113 - val_loss: 0.1093\n",
            "Epoch 43/50\n",
            "60000/60000 [==============================] - 3s 42us/step - loss: 0.1107 - val_loss: 0.1087\n",
            "Epoch 44/50\n",
            "60000/60000 [==============================] - 3s 42us/step - loss: 0.1102 - val_loss: 0.1081\n",
            "Epoch 45/50\n",
            "60000/60000 [==============================] - 2s 39us/step - loss: 0.1096 - val_loss: 0.1076\n",
            "Epoch 46/50\n",
            "60000/60000 [==============================] - 2s 39us/step - loss: 0.1091 - val_loss: 0.1071\n",
            "Epoch 47/50\n",
            "60000/60000 [==============================] - 2s 40us/step - loss: 0.1086 - val_loss: 0.1067\n",
            "Epoch 48/50\n",
            "60000/60000 [==============================] - 2s 39us/step - loss: 0.1082 - val_loss: 0.1063\n",
            "Epoch 49/50\n",
            "60000/60000 [==============================] - 2s 39us/step - loss: 0.1078 - val_loss: 0.1058\n",
            "Epoch 50/50\n",
            "60000/60000 [==============================] - 2s 40us/step - loss: 0.1074 - val_loss: 0.1054\n"
          ],
          "name": "stdout"
        },
        {
          "output_type": "execute_result",
          "data": {
            "text/plain": [
              "<keras.callbacks.callbacks.History at 0x7f308a7cbd30>"
            ]
          },
          "metadata": {
            "tags": []
          },
          "execution_count": 9
        }
      ]
    },
    {
      "cell_type": "code",
      "metadata": {
        "id": "PWTTP5saKX-e",
        "colab_type": "code",
        "colab": {}
      },
      "source": [
        "# encode and decode some digits\n",
        "# note that we take them from the *test* set\n",
        "encoded_imgs = encoder.predict(x_test)\n",
        "decoded_imgs = decoder.predict(encoded_imgs)"
      ],
      "execution_count": 11,
      "outputs": []
    },
    {
      "cell_type": "code",
      "metadata": {
        "id": "IQBs4WBgKgVn",
        "colab_type": "code",
        "colab": {
          "base_uri": "https://localhost:8080/",
          "height": 209
        },
        "outputId": "23ac8cd4-cb87-4651-8c04-8c9e1a3343e8"
      },
      "source": [
        "# use Matplotlib (don't ask)\n",
        "import matplotlib.pyplot as plt\n",
        "\n",
        "n = 10  # how many digits we will display\n",
        "plt.figure(figsize=(20, 4))\n",
        "for i in range(n):\n",
        "    # display original\n",
        "    ax = plt.subplot(2, n, i + 1)\n",
        "    plt.imshow(x_test[i].reshape(28, 28))\n",
        "    plt.gray()\n",
        "    ax.get_xaxis().set_visible(False)\n",
        "    ax.get_yaxis().set_visible(False)\n",
        "\n",
        "    # display reconstruction\n",
        "    ax = plt.subplot(2, n, i + 1 + n)\n",
        "    plt.imshow(decoded_imgs[i].reshape(28, 28))\n",
        "    plt.gray()\n",
        "    ax.get_xaxis().set_visible(False)\n",
        "    ax.get_yaxis().set_visible(False)\n",
        "plt.show()"
      ],
      "execution_count": 12,
      "outputs": [
        {
          "output_type": "display_data",
          "data": {
            "image/png": "[encoded data removed]",
            "text/plain": [
              "<Figure size 1440x288 with 20 Axes>"
            ]
          },
          "metadata": {
            "tags": [],
            "needs_background": "light"
          }
        }
      ]
    },
    {
      "cell_type": "code",
      "metadata": {
        "id": "sOkYX33iJc0s",
        "colab_type": "code",
        "colab": {}
      },
      "source": [
        ""
      ],
      "execution_count": null,
      "outputs": []
    }
  ]
}
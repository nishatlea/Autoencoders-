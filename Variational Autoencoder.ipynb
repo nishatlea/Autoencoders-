{
  "nbformat": 4,
  "nbformat_minor": 0,
  "metadata": {
    "colab": {
      "name": "Untitled1.ipynb",
      "provenance": [],
      "authorship_tag": "ABX9TyPBIK5LaK9R9P72gZflnf1M",
      "include_colab_link": true
    },
    "kernelspec": {
      "name": "python3",
      "display_name": "Python 3"
    }
  },
  "cells": [
    {
      "cell_type": "markdown",
      "metadata": {
        "id": "view-in-github",
        "colab_type": "text"
      },
      "source": [
        "<a href=\"https://colab.research.google.com/github/nishatlea/Autoencoders-/blob/master/Variational%20Autoencoder.ipynb\" target=\"_parent\"><img src=\"https://colab.research.google.com/assets/colab-badge.svg\" alt=\"Open In Colab\"/></a>"
      ]
    },
    {
      "cell_type": "code",
      "metadata": {
        "id": "FzGFkMuf59Gq",
        "colab_type": "code",
        "colab": {
          "base_uri": "https://localhost:8080/",
          "height": 34
        },
        "outputId": "9f4dc99f-3272-49d3-b6b1-b9c5799887fe"
      },
      "source": [
        "import pandas as pd\n",
        "import numpy as np\n",
        "import matplotlib\n",
        "import matplotlib.pyplot as plt\n",
        "import matplotlib.patches as mpatches\n",
        "%matplotlib inline\n",
        "\n",
        "from scipy.stats import norm\n",
        "\n",
        "import keras\n",
        "from keras import layers\n",
        "from keras.models import Model\n",
        "from keras import metrics\n",
        "from keras import backend as K   # 'generic' backend so code works with either tensorflow or theano\n",
        "\n",
        "K.clear_session()\n",
        "\n",
        "np.random.seed(237)\n"
      ],
      "execution_count": 1,
      "outputs": [
        {
          "output_type": "stream",
          "text": [
            "Using TensorFlow backend.\n"
          ],
          "name": "stderr"
        }
      ]
    },
    {
      "cell_type": "code",
      "metadata": {
        "id": "OVpRqSmWCka1",
        "colab_type": "code",
        "colab": {}
      },
      "source": [
        "train_orig = pd.read_csv('../input/train.csv')\n",
        "test_orig = pd.read_csv('../input/test.csv')\n",
        "\n",
        "train_orig.head()"
      ],
      "execution_count": null,
      "outputs": []
    },
    {
      "cell_type": "code",
      "metadata": {
        "id": "Rq6ti2GbCyW8",
        "colab_type": "code",
        "colab": {}
      },
      "source": [
        "test_orig['label'] = 11\n",
        "testCols = test_orig.columns.tolist()\n",
        "testCols = testCols[-1:] + testCols[:-1]\n",
        "test_orig = test_orig[testCols]"
      ],
      "execution_count": null,
      "outputs": []
    },
    {
      "cell_type": "code",
      "metadata": {
        "id": "v85jCdOfC5gb",
        "colab_type": "code",
        "colab": {}
      },
      "source": [
        "# combine original train and test sets\n",
        "combined = pd.concat([train_orig, test_orig], ignore_index = True)\n",
        "\n",
        "combined.head()"
      ],
      "execution_count": null,
      "outputs": []
    },
    {
      "cell_type": "code",
      "metadata": {
        "id": "FIoaEtiyC_6M",
        "colab_type": "code",
        "colab": {}
      },
      "source": [
        "combined.tail()"
      ],
      "execution_count": null,
      "outputs": []
    },
    {
      "cell_type": "code",
      "metadata": {
        "id": "8YGkibKgDEzE",
        "colab_type": "code",
        "colab": {}
      },
      "source": [
        "# Hold out 5000 random images as a validation/test sample\n",
        "valid = combined.sample(n = 5000, random_state = 555)\n",
        "train = combined.loc[~combined.index.isin(valid.index)]\n",
        "\n",
        "# free up some space and delete test and combined\n",
        "del train_orig, test_orig, combined\n",
        "\n",
        "valid.head()"
      ],
      "execution_count": null,
      "outputs": []
    },
    {
      "cell_type": "code",
      "metadata": {
        "id": "Wu8JJNp_5XSx",
        "colab_type": "code",
        "colab": {}
      },
      "source": [
        "# X's\n",
        "X_train = train.drop(['label'], axis = 1)\n",
        "X_valid = valid.drop(['label'], axis = 1)\n",
        "\n",
        "# labels\n",
        "y_train = train['label']\n",
        "y_valid = valid['label']\n",
        "\n",
        "# Normalize and reshape\n",
        "X_train = X_train.astype('float32') / 255.\n",
        "X_train = X_train.values.reshape(-1,28,28,1)\n",
        "\n",
        "X_valid = X_valid.astype('float32') / 255.\n",
        "X_valid = X_valid.values.reshape(-1,28,28,1)"
      ],
      "execution_count": null,
      "outputs": []
    },
    {
      "cell_type": "code",
      "metadata": {
        "id": "i5lMPrqq5jN_",
        "colab_type": "code",
        "colab": {}
      },
      "source": [
        "plt.figure(1)\n",
        "plt.subplot(221)\n",
        "plt.imshow(X_train[13][:,:,0])\n",
        "\n",
        "plt.subplot(222)\n",
        "plt.imshow(X_train[690][:,:,0])\n",
        "\n",
        "plt.subplot(223)\n",
        "plt.imshow(X_train[2375][:,:,0])\n",
        "\n",
        "plt.subplot(224)\n",
        "plt.imshow(X_train[42013][:,:,0])\n",
        "plt.show()"
      ],
      "execution_count": null,
      "outputs": []
    },
    {
      "cell_type": "code",
      "metadata": {
        "id": "2Cx1i38H5oUF",
        "colab_type": "code",
        "colab": {}
      },
      "source": [
        "img_shape = (28, 28, 1)    # for MNIST\n",
        "batch_size = 16\n",
        "latent_dim = 2  # Number of latent dimension parameters\n",
        "\n",
        "# Encoder architecture: Input -> Conv2D*4 -> Flatten -> Dense\n",
        "input_img = keras.Input(shape=img_shape)\n",
        "\n",
        "x = layers.Conv2D(32, 3,\n",
        "                  padding='same', \n",
        "                  activation='relu')(input_img)\n",
        "x = layers.Conv2D(64, 3,\n",
        "                  padding='same', \n",
        "                  activation='relu',\n",
        "                  strides=(2, 2))(x)\n",
        "x = layers.Conv2D(64, 3,\n",
        "                  padding='same', \n",
        "                  activation='relu')(x)\n",
        "x = layers.Conv2D(64, 3,\n",
        "                  padding='same', \n",
        "                  activation='relu')(x)\n",
        "# need to know the shape of the network here for the decoder\n",
        "shape_before_flattening = K.int_shape(x)\n",
        "\n",
        "x = layers.Flatten()(x)\n",
        "x = layers.Dense(32, activation='relu')(x)\n",
        "\n",
        "# Two outputs, latent mean and (log)variance\n",
        "z_mu = layers.Dense(latent_dim)(x)\n",
        "z_log_sigma = layers.Dense(latent_dim)(x)"
      ],
      "execution_count": null,
      "outputs": []
    },
    {
      "cell_type": "code",
      "metadata": {
        "id": "Po2M_YntsrDX",
        "colab_type": "code",
        "colab": {}
      },
      "source": [
        "# sampling function\n",
        "def sampling(args):\n",
        "    z_mu, z_log_sigma = args\n",
        "    epsilon = K.random_normal(shape=(K.shape(z_mu)[0], latent_dim),\n",
        "                              mean=0., stddev=1.)\n",
        "    return z_mu + K.exp(z_log_sigma) * epsilon\n",
        "\n",
        "# sample vector from the latent distribution\n",
        "z = layers.Lambda(sampling)([z_mu, z_log_sigma])"
      ],
      "execution_count": null,
      "outputs": []
    },
    {
      "cell_type": "code",
      "metadata": {
        "id": "fvY1RjI9swEE",
        "colab_type": "code",
        "colab": {}
      },
      "source": [
        "# decoder takes the latent distribution sample as input\n",
        "decoder_input = layers.Input(K.int_shape(z)[1:])\n",
        "\n",
        "# Expand to 784 total pixels\n",
        "x = layers.Dense(np.prod(shape_before_flattening[1:]),\n",
        "                 activation='relu')(decoder_input)\n",
        "\n",
        "# reshape\n",
        "x = layers.Reshape(shape_before_flattening[1:])(x)\n",
        "\n",
        "# use Conv2DTranspose to reverse the conv layers from the encoder\n",
        "x = layers.Conv2DTranspose(32, 3,\n",
        "                           padding='same', \n",
        "                           activation='relu',\n",
        "                           strides=(2, 2))(x)\n",
        "x = layers.Conv2D(1, 3,\n",
        "                  padding='same', \n",
        "                  activation='sigmoid')(x)\n",
        "\n",
        "# decoder model statement\n",
        "decoder = Model(decoder_input, x)\n",
        "\n",
        "# apply the decoder to the sample from the latent distribution\n",
        "z_decoded = decoder(z)"
      ],
      "execution_count": null,
      "outputs": []
    },
    {
      "cell_type": "code",
      "metadata": {
        "id": "4esuRQkKs2Nk",
        "colab_type": "code",
        "colab": {}
      },
      "source": [
        "# construct a custom layer to calculate the loss\n",
        "class CustomVariationalLayer(keras.layers.Layer):\n",
        "\n",
        "    def vae_loss(self, x, z_decoded):\n",
        "        x = K.flatten(x)\n",
        "        z_decoded = K.flatten(z_decoded)\n",
        "        # Reconstruction loss\n",
        "        xent_loss = keras.metrics.binary_crossentropy(x, z_decoded)\n",
        "        # KL divergence\n",
        "        kl_loss = -5e-4 * K.mean(1 + z_log_sigma - K.square(z_mu) - K.exp(z_log_sigma), axis=-1)\n",
        "        return K.mean(xent_loss + kl_loss)\n",
        "\n",
        "    # adds the custom loss to the class\n",
        "    def call(self, inputs):\n",
        "        x = inputs[0]\n",
        "        z_decoded = inputs[1]\n",
        "        loss = self.vae_loss(x, z_decoded)\n",
        "        self.add_loss(loss, inputs=inputs)\n",
        "        return x\n",
        "\n",
        "# apply the custom loss to the input images and the decoded latent distribution sample\n",
        "y = CustomVariationalLayer()([input_img, z_decoded])"
      ],
      "execution_count": null,
      "outputs": []
    },
    {
      "cell_type": "code",
      "metadata": {
        "id": "SXFuWQ99s7oc",
        "colab_type": "code",
        "colab": {}
      },
      "source": [
        "# VAE model statement\n",
        "vae = Model(input_img, y)\n",
        "vae.compile(optimizer='rmsprop', loss=None)\n",
        "vae.summary()"
      ],
      "execution_count": null,
      "outputs": []
    },
    {
      "cell_type": "code",
      "metadata": {
        "id": "w9Sajrl5tCjC",
        "colab_type": "code",
        "colab": {}
      },
      "source": [
        "vae.fit(x=X_train, y=None,\n",
        "        shuffle=True,\n",
        "        epochs=7,\n",
        "        batch_size=batch_size,\n",
        "        validation_data=(X_valid, None))"
      ],
      "execution_count": null,
      "outputs": []
    },
    {
      "cell_type": "code",
      "metadata": {
        "id": "BIMEGYcmtHWK",
        "colab_type": "code",
        "colab": {}
      },
      "source": [
        "# Isolate original training set records in validation set\n",
        "valid_noTest = valid[valid['label'] != 11]\n",
        "\n",
        "# X's and Y's\n",
        "X_valid_noTest = valid_noTest.drop('label', axis=1)\n",
        "y_valid_noTest = valid_noTest['label']\n",
        "\n",
        "# Reshape and normalize\n",
        "X_valid_noTest = X_valid_noTest.astype('float32') / 255.\n",
        "X_valid_noTest = X_valid_noTest.values.reshape(-1,28,28,1)"
      ],
      "execution_count": null,
      "outputs": []
    },
    {
      "cell_type": "code",
      "metadata": {
        "id": "IrvkDoQ-tLPU",
        "colab_type": "code",
        "colab": {}
      },
      "source": [
        "# Translate into the latent space\n",
        "encoder = Model(input_img, z_mu)\n",
        "x_valid_noTest_encoded = encoder.predict(X_valid_noTest, batch_size=batch_size)\n",
        "plt.figure(figsize=(10, 10))\n",
        "plt.scatter(x_valid_noTest_encoded[:, 0], x_valid_noTest_encoded[:, 1], c=y_valid_noTest, cmap='brg')\n",
        "plt.colorbar()\n",
        "plt.show()"
      ],
      "execution_count": null,
      "outputs": []
    },
    {
      "cell_type": "code",
      "metadata": {
        "id": "a27FlSwltUmK",
        "colab_type": "code",
        "colab": {}
      },
      "source": [
        "# set colormap so that 11's are gray\n",
        "custom_cmap = matplotlib.cm.get_cmap('brg')\n",
        "custom_cmap.set_over('gray')\n",
        "\n",
        "x_valid_encoded = encoder.predict(X_valid, batch_size=batch_size)\n",
        "plt.figure(figsize=(10, 10))\n",
        "gray_marker = mpatches.Circle(4,radius=0.1,color='gray', label='Test')\n",
        "plt.legend(handles=[gray_marker], loc = 'best')\n",
        "plt.scatter(x_valid_encoded[:, 0], x_valid_encoded[:, 1], c=y_valid, cmap=custom_cmap)\n",
        "plt.clim(0, 9)\n",
        "plt.colorbar()"
      ],
      "execution_count": null,
      "outputs": []
    },
    {
      "cell_type": "code",
      "metadata": {
        "id": "ZndFyjC_tazT",
        "colab_type": "code",
        "colab": {}
      },
      "source": [
        "# Display a 2D manifold of the digits\n",
        "n = 20  # figure with 20x20 digits\n",
        "digit_size = 28\n",
        "figure = np.zeros((digit_size * n, digit_size * n))\n",
        "\n",
        "# Construct grid of latent variable values\n",
        "grid_x = norm.ppf(np.linspace(0.05, 0.95, n))\n",
        "grid_y = norm.ppf(np.linspace(0.05, 0.95, n))\n",
        "\n",
        "# decode for each square in the grid\n",
        "for i, yi in enumerate(grid_x):\n",
        "    for j, xi in enumerate(grid_y):\n",
        "        z_sample = np.array([[xi, yi]])\n",
        "        z_sample = np.tile(z_sample, batch_size).reshape(batch_size, 2)\n",
        "        x_decoded = decoder.predict(z_sample, batch_size=batch_size)\n",
        "        digit = x_decoded[0].reshape(digit_size, digit_size)\n",
        "        figure[i * digit_size: (i + 1) * digit_size,\n",
        "               j * digit_size: (j + 1) * digit_size] = digit\n",
        "\n",
        "plt.figure(figsize=(10, 10))\n",
        "plt.imshow(figure, cmap='gnuplot2')\n",
        "plt.show()  "
      ],
      "execution_count": null,
      "outputs": []
    }
  ]
}